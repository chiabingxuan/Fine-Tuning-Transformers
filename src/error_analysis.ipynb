{
 "cells": [
  {
   "cell_type": "markdown",
   "id": "6c6ed3bf",
   "metadata": {},
   "source": [
    "## Imports"
   ]
  },
  {
   "cell_type": "code",
   "execution_count": 1,
   "id": "82ce55b7",
   "metadata": {},
   "outputs": [
    {
     "name": "stderr",
     "output_type": "stream",
     "text": [
      "c:\\Users\\bxchi\\OneDrive\\Desktop\\Stuff\\Year 4 Sem 1\\DSA4213\\Assignments\\Assignment 3\\venv\\Lib\\site-packages\\tqdm\\auto.py:21: TqdmWarning: IProgress not found. Please update jupyter and ipywidgets. See https://ipywidgets.readthedocs.io/en/stable/user_install.html\n",
      "  from .autonotebook import tqdm as notebook_tqdm\n"
     ]
    }
   ],
   "source": [
    "import os\n",
    "import sys\n",
    "parent_dir = os.path.abspath(os.path.join(os.getcwd(), \"..\"))\n",
    "sys.path.append(parent_dir)\n",
    "\n",
    "import pandas as pd\n",
    "from utils import load_kaggle_dataset"
   ]
  },
  {
   "cell_type": "markdown",
   "id": "d4af69d9",
   "metadata": {},
   "source": [
    "## Setup"
   ]
  },
  {
   "cell_type": "code",
   "execution_count": 2,
   "id": "cac59e8d",
   "metadata": {},
   "outputs": [],
   "source": [
    "EVAL_RESULTS_PATH = os.path.normpath(os.path.join(\"..\", \"eval_results\"))"
   ]
  },
  {
   "cell_type": "markdown",
   "id": "31ae15e8",
   "metadata": {},
   "source": [
    "## Helpers"
   ]
  },
  {
   "cell_type": "code",
   "execution_count": 3,
   "id": "ca40f311",
   "metadata": {},
   "outputs": [],
   "source": [
    "def find_errors(eval_results_path, model_name, test_dataset):\n",
    "    # Load predictions and find incorrect ones\n",
    "    preds_df = pd.read_csv(os.path.join(eval_results_path, model_name, \"preds.csv\"), index_col=0)\n",
    "    wrong_preds_df = preds_df[preds_df[\"pred_class\"] != preds_df[\"actual_class\"]].copy()\n",
    "\n",
    "    # Use indices of incorrect predictions to get corresponding texts from test set\n",
    "    wrong_preds_df[\"text\"] = test_dataset[wrong_preds_df.index][\"text\"]\n",
    "    wrong_preds_df = wrong_preds_df[[\"text\", \"pred_class\", \"actual_class\"]]\n",
    "\n",
    "    # Print out all these texts\n",
    "    for _, row in wrong_preds_df.iterrows():\n",
    "        print(f\"Text: {row[\"text\"]}\")\n",
    "        print(f\"Predicted Class: {row[\"pred_class\"]}\")\n",
    "        print(f\"Actual Class: {row[\"actual_class\"]}\\n\")\n",
    "        \n",
    "    return wrong_preds_df"
   ]
  },
  {
   "cell_type": "markdown",
   "id": "3af9708f",
   "metadata": {},
   "source": [
    "## Load Test Dataset"
   ]
  },
  {
   "cell_type": "code",
   "execution_count": 4,
   "id": "f4815113",
   "metadata": {},
   "outputs": [
    {
     "name": "stdout",
     "output_type": "stream",
     "text": [
      "Dataset loaded from bingxuanchia/cleaned-isot-fake-news-dataset on Kaggle!\n",
      "\n"
     ]
    }
   ],
   "source": [
    "# Load dataset\n",
    "DATASET_PATH = \"bingxuanchia/cleaned-isot-fake-news-dataset\"\n",
    "dataset = load_kaggle_dataset(DATASET_PATH)\n",
    "test_dataset = dataset[\"test\"]"
   ]
  },
  {
   "cell_type": "markdown",
   "id": "d26f92ce",
   "metadata": {},
   "source": [
    "## Errors for `isot-bert-finetuned`"
   ]
  },
  {
   "cell_type": "code",
   "execution_count": 5,
   "id": "95fb2ad4",
   "metadata": {},
   "outputs": [
    {
     "name": "stdout",
     "output_type": "stream",
     "text": [
      "Text: President-elect Donald Trump has outlined a ten-point plan on his transition website for dealing with illegal immigration. Here is a look at what it would take to accomplish each of the ten goals. BUILD A WALL ON THE SOUTHERN BORDER: Trump has the legal authorization to build fences under the “Secure Fence Act” passed in 2006, but Congress would have to approve considerably more funding to wall off the entire southern border, which spans nearly 2,000 miles. There are also logistical challenges. Some areas of the border are privately owned, and the geography of some stretches would make construction extremely difficult. Trump previously said he would make Mexico pay for the wall, but that policy is not included on his post-election web site.   END CATCH-AND-RELEASE: To end the practice known as “catch and release,” under which immigrants are released pending court hearings, Trump could unilaterally shift policies, but full implementation would require significantly more detention space to hold migrants before they can see a judge. There is currently a 500,000-case backlog in U.S. immigration courts and recent court decisions prohibit him from detaining children with their parents for longer than 20 days.  ZERO TOLERANCE FOR CRIMINAL ALIENS: The Obama administration currently prioritizes immigrants convicted of serious crimes for deportation. But Trump could try to expand the definition of who is classified as a criminal alien or attempt to speed up removals of people who have been ordered deported. In any case, more funding for courts and personnel involved in apprehensions would likely be necessary.  BLOCKING FUNDING FOR SANCTUARY CITIES: Trump has threatened to cut off funding for so-called sanctuary cities such as Chicago and Los Angeles, where local law enforcement refuse to report undocumented immigrants they encounter to federal authorities. While Trump has the authority to cut some kinds of funding to the cities, mayors of those cities have said they will not be pressured to report migrants to federal agents.  CANCEL UNCONSTITUTIONAL EXECUTIVE ORDERS AND ENFORCE ALL IMMIGRATION LAWS: Trump has the authority to undo executive orders like DACA, which has provided temporary relief from deportation to more than 700,000 immigrants brought to the United States illegally as children. Enforcing all immigration laws would require Trump to deport an estimated 11 million immigrants living illegally in the United States. That would require large increases in funding from Congress to grow the current workforce of immigration agents and judges to be able to lawfully handle 11 million deportations. Locating so many immigrants, many in the country for years with deep family ties, would be logistically challenging and could spark public backlash.  SUSPEND THE ISSUANCE OF VISAS TO ANY PLACE WHERE ADEQUATE SCREENING CANNOT OCCUR: Similar to the “Muslim ban” Trump proposed during his campaign, this policy would be aimed at visa seekers from war-torn countries such as Syria and Iraq where many refugees and asylum seekers have sought to escape. Under current law, Trump could unilaterally suspend visas for any individuals or groups or people deemed “detrimental to the interests of the United States.”  The policy could face challenges in court, however, if it appears to discriminate against any one religion. ENSURE THAT OTHER COUNTRIES TAKE THEIR PEOPLE BACK WHEN WE ORDER THEM DEPORTED: The Obama administration has wrestled with the issue of forcing recalcitrant countries to take back people the United States is seeking to deport. Trump could ramp up diplomatic pressure on countries such as China, the country that has refused to repatriate the largest number of people ordered deported from the United States, but that could have wider diplomatic ramifications. FINALLY COMPLETE THE BIOMETRIC ENTRY-EXIT VISA TRACKING SYSTEM: Although mandated by law since Bill Clinton was president, the United States has yet to develop a system to track foreign visitors and determine if they leave the country when their visas expire. Getting a program up and running would require significant funding to collect and store biometric data such as fingerprints for every visa holder who enters and leaves the United States, and some experts have said the system is not practical.  TURN OFF THE JOBS AND BENEFITS MAGNET: Trump would need congressional approval to mandate a national database known as E-Verify that allows employers to check the immigration status of potential hires. Until such a system is in place, it is difficult to penalize employers who unknowingly hire undocumented immigrants using fake social security numbers.   REFORM LEGAL IMMIGRATION TO SERVE THE BEST INTERESTS OF AMERICA AND ITS WORKERS: The Department of Labor, the Department of Homeland Security and the Justice Department could  increase investigations of employers suspected of abusing visa programs such as H-1B that allow companies to hire foreign workers, often for a lower cost than what they would pay Americans. But Trump could face backlash from industries that rely on the program, including the technology sector, if he goes too far in revoking visas.\n",
      "Predicted Class: 1\n",
      "Actual Class: 0\n",
      "\n",
      "Text: About five million people in Kurdish-held areas of northern Iraq will be summoned to take part in a non-binding referendum on independence from Iraq on Monday. They will be asked to tick a yes/no box next to this question:  Do you want the Kurdistan region and the Kurdish areas outside the region s administration to become an independent state?   The Kurds are the largest ethnic group left stateless when Britain and France, the colonial powers which won World War One, carved up the Ottoman empire. The region s roughly 30 million ethnic Kurds were left scattered, mainly over four countries: Iraq, Iran, Turkey and Syria. All of them suffered persecution and were often denied the right to speak their language. Those in Iraq were uprooted under Saddam Hussein s regime and suffered an attack using chemical weapons.  The autonomous Kurdistan Regional Government (KRG) in northern Iraq says the Shi ite ruled central government in Baghdad has failed to respect autonomy established after the 2003 overthrow of Saddam Hussein in a U.S.-led invasion.  The KRG says the vote acknowledges the Kurds  crucial contribution confronting Islamic State after it overwhelmed the the Iraqi army in 2014 and seized control of a third of Iraq. WHAT S THE LIKELY OUTCOME AND WHAT S THE NEXT MOVE:  The outcome is likely  to be a comfortable  yes . The KRG, led by Massoud Barzani, plans to use the vote as a legitimate mandate to press for negotiations with Baghdad and neighboring countries to achieve independence.   Baghdad thinks the vote could lead to a messy breakup of Iraq at a time when it is struggling with reconstruction and the return of refugees. It offers talks to resolve disputes over land, energy and power sharing, including the status of the multi-ethnic oil region of Kirkuk. Iraq s powerful neighbors fear separatist contagion for their own Kurdish populations. Turkey is home to the largest Kurdish minority. It has been fighting Kurdish insurrection in its south-east since 1984. Iran s Kurds are close culturally to Iraq s Kurds and they speak the same Kurdish language. Tehran is also close to the Shi ite political parties who have been ruling Iraq or holding key security or government positions since 2003.  Syria is embroiled in a civil war in which its own Kurds are pressing for self-administration. About everyone, including the United States and United Nations who fear a destabilization of Iraq while the war with Islamic State is not yet over.  WHY OIL-RICH KIRKUK IS EMERGING AS A FLASHPOINT:  Kirkuk is a multi-ethnic city. It lies outside the recognized Kurdish region and is home to Kurds, Turkmen, Arabs and Assyrian Christians. It sits on susbtantial oil reserves and its crude is exported through a pipeline to the Mediterranean that crosses KRG territory and Turkey. If Turkey decides to close the pipeline, it would deprive the KRG government in Erbil of most its hard currency income. Iraqi Kurdistan produces around 650,000 bpd of crude from its fields, including around 150,000 bpd from the disputed areas of Kirkuk. The region s production volumes represent 15 percent of total Iraqi output and around 0.7 percent of global oil production. The KRG aspires to raise production to over 1 million bpd by the end of this decade.  Kurdish oil production has been dominated by mid-sized oil firms such as Genel, DNO, Gulf Keystone and Dana Gas.  Major oil firms such as Chevron, Exxon Mobil and Rosneft also have projects in Kurdistan but they are mostly at an exploration stage. Russia s state oil major Rosneft, however, has lent over $1 billion to the KRG guaranteed by oil sales and committed a total of $4 billion to various projects in Kurdistan. Trading houses Vitol, Glencore, Trafigura and Petraco have lent a total of $2 billion to Kurdistan guaranteed by oil sales while Turkey has also provided a total of $1.5 billion to support Erbil in the past two years. All registered residents of the Kurdish-held region in northern Iraq, Kurds and non-Kurds, are eligible to vote. The Kurdish-held regions include those inside the official boundaries of the KRG and surrounding areas that Peshmerga fighters seized in the course of the war on Islamic State. Kirkuk lies outside the KRG and is also claimed by Baghdad. Internally displaced people from the disputed territories will be allowed to vote. Iraq s Kurdish diaspora will also be allowed to submit electronic ballots on Sept. 23 and 24. The United Nations opposes the referendum and says it will  not participate in the process.\n",
      "Predicted Class: 1\n",
      "Actual Class: 0\n",
      "\n"
     ]
    }
   ],
   "source": [
    "wrong_preds_df_finetuned = find_errors(\n",
    "    eval_results_path=EVAL_RESULTS_PATH,\n",
    "    model_name=\"isot-bert-finetuned\",\n",
    "    test_dataset=test_dataset\n",
    ")"
   ]
  },
  {
   "cell_type": "code",
   "execution_count": 6,
   "id": "f5e7f8b4",
   "metadata": {},
   "outputs": [
    {
     "data": {
      "application/vnd.microsoft.datawrangler.viewer.v0+json": {
       "columns": [
        {
         "name": "index",
         "rawType": "int64",
         "type": "integer"
        },
        {
         "name": "text",
         "rawType": "object",
         "type": "string"
        },
        {
         "name": "pred_class",
         "rawType": "int64",
         "type": "integer"
        },
        {
         "name": "actual_class",
         "rawType": "int64",
         "type": "integer"
        }
       ],
       "ref": "f9907825-c7ce-4e7e-bc7e-449eb6de3174",
       "rows": [
        [
         "594",
         "President-elect Donald Trump has outlined a ten-point plan on his transition website for dealing with illegal immigration. Here is a look at what it would take to accomplish each of the ten goals. BUILD A WALL ON THE SOUTHERN BORDER: Trump has the legal authorization to build fences under the “Secure Fence Act” passed in 2006, but Congress would have to approve considerably more funding to wall off the entire southern border, which spans nearly 2,000 miles. There are also logistical challenges. Some areas of the border are privately owned, and the geography of some stretches would make construction extremely difficult. Trump previously said he would make Mexico pay for the wall, but that policy is not included on his post-election web site.   END CATCH-AND-RELEASE: To end the practice known as “catch and release,” under which immigrants are released pending court hearings, Trump could unilaterally shift policies, but full implementation would require significantly more detention space to hold migrants before they can see a judge. There is currently a 500,000-case backlog in U.S. immigration courts and recent court decisions prohibit him from detaining children with their parents for longer than 20 days.  ZERO TOLERANCE FOR CRIMINAL ALIENS: The Obama administration currently prioritizes immigrants convicted of serious crimes for deportation. But Trump could try to expand the definition of who is classified as a criminal alien or attempt to speed up removals of people who have been ordered deported. In any case, more funding for courts and personnel involved in apprehensions would likely be necessary.  BLOCKING FUNDING FOR SANCTUARY CITIES: Trump has threatened to cut off funding for so-called sanctuary cities such as Chicago and Los Angeles, where local law enforcement refuse to report undocumented immigrants they encounter to federal authorities. While Trump has the authority to cut some kinds of funding to the cities, mayors of those cities have said they will not be pressured to report migrants to federal agents.  CANCEL UNCONSTITUTIONAL EXECUTIVE ORDERS AND ENFORCE ALL IMMIGRATION LAWS: Trump has the authority to undo executive orders like DACA, which has provided temporary relief from deportation to more than 700,000 immigrants brought to the United States illegally as children. Enforcing all immigration laws would require Trump to deport an estimated 11 million immigrants living illegally in the United States. That would require large increases in funding from Congress to grow the current workforce of immigration agents and judges to be able to lawfully handle 11 million deportations. Locating so many immigrants, many in the country for years with deep family ties, would be logistically challenging and could spark public backlash.  SUSPEND THE ISSUANCE OF VISAS TO ANY PLACE WHERE ADEQUATE SCREENING CANNOT OCCUR: Similar to the “Muslim ban” Trump proposed during his campaign, this policy would be aimed at visa seekers from war-torn countries such as Syria and Iraq where many refugees and asylum seekers have sought to escape. Under current law, Trump could unilaterally suspend visas for any individuals or groups or people deemed “detrimental to the interests of the United States.”  The policy could face challenges in court, however, if it appears to discriminate against any one religion. ENSURE THAT OTHER COUNTRIES TAKE THEIR PEOPLE BACK WHEN WE ORDER THEM DEPORTED: The Obama administration has wrestled with the issue of forcing recalcitrant countries to take back people the United States is seeking to deport. Trump could ramp up diplomatic pressure on countries such as China, the country that has refused to repatriate the largest number of people ordered deported from the United States, but that could have wider diplomatic ramifications. FINALLY COMPLETE THE BIOMETRIC ENTRY-EXIT VISA TRACKING SYSTEM: Although mandated by law since Bill Clinton was president, the United States has yet to develop a system to track foreign visitors and determine if they leave the country when their visas expire. Getting a program up and running would require significant funding to collect and store biometric data such as fingerprints for every visa holder who enters and leaves the United States, and some experts have said the system is not practical.  TURN OFF THE JOBS AND BENEFITS MAGNET: Trump would need congressional approval to mandate a national database known as E-Verify that allows employers to check the immigration status of potential hires. Until such a system is in place, it is difficult to penalize employers who unknowingly hire undocumented immigrants using fake social security numbers.   REFORM LEGAL IMMIGRATION TO SERVE THE BEST INTERESTS OF AMERICA AND ITS WORKERS: The Department of Labor, the Department of Homeland Security and the Justice Department could  increase investigations of employers suspected of abusing visa programs such as H-1B that allow companies to hire foreign workers, often for a lower cost than what they would pay Americans. But Trump could face backlash from industries that rely on the program, including the technology sector, if he goes too far in revoking visas.",
         "1",
         "0"
        ],
        [
         "699",
         "About five million people in Kurdish-held areas of northern Iraq will be summoned to take part in a non-binding referendum on independence from Iraq on Monday. They will be asked to tick a yes/no box next to this question:  Do you want the Kurdistan region and the Kurdish areas outside the region s administration to become an independent state?   The Kurds are the largest ethnic group left stateless when Britain and France, the colonial powers which won World War One, carved up the Ottoman empire. The region s roughly 30 million ethnic Kurds were left scattered, mainly over four countries: Iraq, Iran, Turkey and Syria. All of them suffered persecution and were often denied the right to speak their language. Those in Iraq were uprooted under Saddam Hussein s regime and suffered an attack using chemical weapons.  The autonomous Kurdistan Regional Government (KRG) in northern Iraq says the Shi ite ruled central government in Baghdad has failed to respect autonomy established after the 2003 overthrow of Saddam Hussein in a U.S.-led invasion.  The KRG says the vote acknowledges the Kurds  crucial contribution confronting Islamic State after it overwhelmed the the Iraqi army in 2014 and seized control of a third of Iraq. WHAT S THE LIKELY OUTCOME AND WHAT S THE NEXT MOVE:  The outcome is likely  to be a comfortable  yes . The KRG, led by Massoud Barzani, plans to use the vote as a legitimate mandate to press for negotiations with Baghdad and neighboring countries to achieve independence.   Baghdad thinks the vote could lead to a messy breakup of Iraq at a time when it is struggling with reconstruction and the return of refugees. It offers talks to resolve disputes over land, energy and power sharing, including the status of the multi-ethnic oil region of Kirkuk. Iraq s powerful neighbors fear separatist contagion for their own Kurdish populations. Turkey is home to the largest Kurdish minority. It has been fighting Kurdish insurrection in its south-east since 1984. Iran s Kurds are close culturally to Iraq s Kurds and they speak the same Kurdish language. Tehran is also close to the Shi ite political parties who have been ruling Iraq or holding key security or government positions since 2003.  Syria is embroiled in a civil war in which its own Kurds are pressing for self-administration. About everyone, including the United States and United Nations who fear a destabilization of Iraq while the war with Islamic State is not yet over.  WHY OIL-RICH KIRKUK IS EMERGING AS A FLASHPOINT:  Kirkuk is a multi-ethnic city. It lies outside the recognized Kurdish region and is home to Kurds, Turkmen, Arabs and Assyrian Christians. It sits on susbtantial oil reserves and its crude is exported through a pipeline to the Mediterranean that crosses KRG territory and Turkey. If Turkey decides to close the pipeline, it would deprive the KRG government in Erbil of most its hard currency income. Iraqi Kurdistan produces around 650,000 bpd of crude from its fields, including around 150,000 bpd from the disputed areas of Kirkuk. The region s production volumes represent 15 percent of total Iraqi output and around 0.7 percent of global oil production. The KRG aspires to raise production to over 1 million bpd by the end of this decade.  Kurdish oil production has been dominated by mid-sized oil firms such as Genel, DNO, Gulf Keystone and Dana Gas.  Major oil firms such as Chevron, Exxon Mobil and Rosneft also have projects in Kurdistan but they are mostly at an exploration stage. Russia s state oil major Rosneft, however, has lent over $1 billion to the KRG guaranteed by oil sales and committed a total of $4 billion to various projects in Kurdistan. Trading houses Vitol, Glencore, Trafigura and Petraco have lent a total of $2 billion to Kurdistan guaranteed by oil sales while Turkey has also provided a total of $1.5 billion to support Erbil in the past two years. All registered residents of the Kurdish-held region in northern Iraq, Kurds and non-Kurds, are eligible to vote. The Kurdish-held regions include those inside the official boundaries of the KRG and surrounding areas that Peshmerga fighters seized in the course of the war on Islamic State. Kirkuk lies outside the KRG and is also claimed by Baghdad. Internally displaced people from the disputed territories will be allowed to vote. Iraq s Kurdish diaspora will also be allowed to submit electronic ballots on Sept. 23 and 24. The United Nations opposes the referendum and says it will  not participate in the process.",
         "1",
         "0"
        ]
       ],
       "shape": {
        "columns": 3,
        "rows": 2
       }
      },
      "text/html": [
       "<div>\n",
       "<style scoped>\n",
       "    .dataframe tbody tr th:only-of-type {\n",
       "        vertical-align: middle;\n",
       "    }\n",
       "\n",
       "    .dataframe tbody tr th {\n",
       "        vertical-align: top;\n",
       "    }\n",
       "\n",
       "    .dataframe thead th {\n",
       "        text-align: right;\n",
       "    }\n",
       "</style>\n",
       "<table border=\"1\" class=\"dataframe\">\n",
       "  <thead>\n",
       "    <tr style=\"text-align: right;\">\n",
       "      <th></th>\n",
       "      <th>text</th>\n",
       "      <th>pred_class</th>\n",
       "      <th>actual_class</th>\n",
       "    </tr>\n",
       "  </thead>\n",
       "  <tbody>\n",
       "    <tr>\n",
       "      <th>594</th>\n",
       "      <td>President-elect Donald Trump has outlined a te...</td>\n",
       "      <td>1</td>\n",
       "      <td>0</td>\n",
       "    </tr>\n",
       "    <tr>\n",
       "      <th>699</th>\n",
       "      <td>About five million people in Kurdish-held area...</td>\n",
       "      <td>1</td>\n",
       "      <td>0</td>\n",
       "    </tr>\n",
       "  </tbody>\n",
       "</table>\n",
       "</div>"
      ],
      "text/plain": [
       "                                                  text  pred_class  \\\n",
       "594  President-elect Donald Trump has outlined a te...           1   \n",
       "699  About five million people in Kurdish-held area...           1   \n",
       "\n",
       "     actual_class  \n",
       "594             0  \n",
       "699             0  "
      ]
     },
     "execution_count": 6,
     "metadata": {},
     "output_type": "execute_result"
    }
   ],
   "source": [
    "wrong_preds_df_finetuned"
   ]
  },
  {
   "cell_type": "markdown",
   "id": "6919491e",
   "metadata": {},
   "source": [
    "## Errors for `isot-bert-finetuned-lora`"
   ]
  },
  {
   "cell_type": "code",
   "execution_count": 7,
   "id": "57693f1a",
   "metadata": {},
   "outputs": [
    {
     "name": "stdout",
     "output_type": "stream",
     "text": [
      "Text: President Donald Trump welcomed India s Prime Minister Narendra Modi to the White House Monday for their first meeting, as the U.S. branded a top militant from neighboring Pakistan as a  global terrorist. The leaders of the world s two largest democracies are looking to expand ties on defense and fighting terrorism, but strains are likely on trade. Their personal chemistry could prove as important as policy in setting the tone for relations.During brief Oval Office remarks, Trump heaped praise on Modi as a  great prime minister  who had brought economic growth to India. Modi recalled Trump s visits to India long before he was president and said he was looking forward to collaborating with him now that he is president. The relationship between the United States and India is very, very strong and very, very powerful,  Trump said.  We agree on most things. And I would say, by the end of the day we ll agree on everything. I have a feeling,  he joked.Meanwhile back in India, a village is so enamored with President Trump that they ve renamed their village after him: #News: As @POTUS @realDonaldTrump's popularity soars abroad, a village in #India renames itself \"Trump\" to honour their American hero.   pic.twitter.com/3ogNWWcwMA   l g s  (@Maximus_4EVR) June 27, 2017Hours before Modi s arrival, the State Department imposed sanctions on Syed Salahuddin, the Pakistan-based leader of Hizbul Mujahideen, the main rebel group that fights against Indian control in the divided Himalayan region of Kashmir. India s foreign ministry hailed the move.Trump s press conference with India s Prime Minister:Trump has so far focused on outreach to China, India s strategic rival, as he looks to Beijing to rein in nuclear-armed North Korea. But Washington and New Delhi share concerns about China s rise as a military power that has underpinned increasingly close relations in the past decade.  PBS\n",
      "Predicted Class: 0\n",
      "Actual Class: 1\n",
      "\n",
      "Text: Watch Tucker Carlson point out that Trump paid a 25% tax rate while socialist  fair share  Bernie only paid a 13% tax rate: \n",
      "Predicted Class: 0\n",
      "Actual Class: 1\n",
      "\n",
      "Text: Iran, where the thought police will always have a job: Not only will we not grant foreigners the permission to inspect our military sites, we will not even give them permission to think about such a subject. A spokesman for Iran s nuclear agency has once again rejected calls to grant IAEA access to military sites, continuing a war of words on the issue that began Sunday.Press TV reports that Behrouz Kamalvandi, spokesman for the Atomic Energy Organization of Iran (AEOI), gave an interview Monday in which he stated that demands for access to Iran s military sites were  not practical and acceptable.  According to Press TV, his statement was a response to a claim U.S. Energy Secretary Ernest Moniz made earlier in the day.During an interview with Bloomberg News earlier Monday, Secretary Moniz said,  We expect to have anywhere, anytime access  within Iran. That statement appears to match the contents of the U.S. fact sheet published three weeks ago. The fact sheet states,  Iran will be required to grant access to the IAEA to investigate suspicious sites or allegations of a covert enrichment facility, conversion facility, centrifuge production facility, or yellowcake production facility anywhere in the country. Secretary Moniz s statement about access  anywhere, anytime  was itself an apparent response to a blunt statement Sunday by Brigadier General Hossein Salami. According to Press TV, General Salami gave an interview to Fars News in which he stated,  Not only will we not grant foreigners the permission to inspect our military sites, we will not even give them permission to think about such a subject.  In case that was not clear enough, Gen. Salami added,  They will not even be permitted to inspect the most normal military site in their dreams. General Salami is not the first high ranking Iranian to deny the IAEA will get access to Iran s military sites under the proposed deal. Nearly two weeks ago, Iran s Defense Minister said any inspection of Iran s military sites was  a red line  and added that no  inspection of any kind from such facilities would be accepted.  Ayatollah Khamenei backed up that stance the next day.AEOI spokesman Behrouz Kamalvandi who said military site inspections were not  acceptable was reportedly awaiting a nuclear delegation from Russia to discuss the construction of two new nuclear power plants in Iran next year.Via: Breitbart News\n",
      "Predicted Class: 0\n",
      "Actual Class: 1\n",
      "\n",
      "Text: The following statements were posted to the verified Twitter accounts of U.S. President Donald Trump, @realDonaldTrump and @POTUS.  The opinions expressed are his own. Reuters has not edited the statements or confirmed their accuracy.  @realDonaldTrump : - Will be going to North Dakota today to discuss tax reform and tax cuts. We are the highest taxed nation in the world - that will change. [0647 EDT] -Watching Hurricane closely. My team, which has done, and is doing, such a good job in Texas, is already in Florida. No rest for the weary! [0651 EDT] -Hurricane looks like largest ever recorded in the Atlantic! [0653 EDT] -- Source link: (bit.ly/2jBh4LU) (bit.ly/2jpEXYR)\n",
      "Predicted Class: 1\n",
      "Actual Class: 0\n",
      "\n",
      "Text: Reuters reports:The United States expelled 35 Russian diplomats and closed two Russian compounds in New York and Maryland in response to a campaign of harassment against American diplomats in Moscow, a senior U.S. official said on Thursday.The move against the diplomats from the Russian embassy in Washington and consulate in San Francisco is part of a series of actions announced on Thursday to punish Russia for a campaign of intimidation of American diplomats in Moscow and interference in the U.S. election.In fact, this morning The Hill wrote that the Obama administration is  under intense pressure to release evidence confirming Russian interference in the presidential election before leaving office. The administration has provided exactly zero documentation, but that has not stopped the media machine from parroting the claims and repeating it ad nauseam, in hopes the emotional appeals through repetition will make it factual.Just as bad, the Hill also writes that nor has Obama  corroborated subsequent leaks from anonymous officials contending that the CIA believes the campaign was an attempt by Russian President Vladimir Putin to ensure Donald Trump s victory. \n",
      "Predicted Class: 0\n",
      "Actual Class: 1\n",
      "\n",
      "Text:  Reframing the current diplomatic crisis in North Korea is essential if genuine progress is to be made in diffusing the current tense situation.Former US President Jimmy Carter is suggesting just that. But will the hawks in Washington listen?. The Carter CenterThe harsh rhetoric from Washington and Pyongyang during recent months has exacerbated an already confrontational relationship between our countries, and has probably eliminated any chance of good faith peace talks between the United States and North Korea. In addition to restraining the warlike rhetoric, our leaders need to encourage talks between North Korea and other countries, especially China and Russia. The recent UN Security Council unanimous vote for new sanctions suggests that these countries could help.  In all cases, a nuclear exchange must be avoided. All parties must assure North Koreans they we will forego any military action against them if North Korea remains peaceful.President Jimmy CarterI have visited North Korea three times, and have spent more than 20 hours in discussions with their political leaders regarding important issues that affect U.S.-DPRK relations.In June 1994, I met with Kim Il Sung in a time of crisis, when he agreed to put all their nuclear programs under strict supervision of the International Atomic Energy Agency and to seek mutual agreement with the United States on a permanent peace treaty, to have summit talks with the president of South Korea, to expedite the recovery of the remains of American service personnel buried in his country, and to take other steps to ease tension on the peninsula. Kim Il Sung died shortly after my visit, and his successor, Kim Jong Il, notified me and leaders in Washington that he would honor the promises made by his father. These obligations were later confirmed officially in negotiations in Geneva by Robert Gallucci and other representatives of the Clinton administration.I returned to Pyongyang in August 2010, at the invitation of North Korean leaders, to bring home Aijalon Gomes, an American who had been detained there. My last visit to North Korea was in May 2011 when I led a delegation of Elders (former presidents of Ireland and Finland and former prime minister of Norway) to assure the delivery of donated food directly to needy people.During all these visits, the North Koreans emphasized that they wanted peaceful relations with the United States and their neighbors, but were convinced that we planned a preemptive military strike against their country. They wanted a peace treaty (especially with America) to replace the ceasefire agreement that had existed since the end of the Korean War in 1953, and to end the economic sanctions that had been very damaging to them during that long interim period. They have made it clear to me and others that their first priority is to assure that their military capability is capable of destroying a large part of Seoul and of responding strongly in other ways to any American attack. The influence of China in Pyongyang seems to be greatly reduced since Kim Jong Un became the North Korean leader in December 2011.A commitment to peace by the United States and North Korea is crucial.When this confrontational crisis is ended, the United States should be prepared to consummate a permanent treaty to replace the ceasefire of 1953. The United States should make this clear, to North Koreans and to our allies.READ MORE NORTH KOREA NEWS AT: 21st Century Wire North Korea FilesSUPPORT OUR WORK BY SUBSCRIBING & BECOMING A MEMBER @21WIRE.TV\n",
      "Predicted Class: 0\n",
      "Actual Class: 1\n",
      "\n"
     ]
    }
   ],
   "source": [
    "wrong_preds_df_finetuned_lora = find_errors(\n",
    "    eval_results_path=EVAL_RESULTS_PATH,\n",
    "    model_name=\"isot-bert-finetuned-lora\",\n",
    "    test_dataset=test_dataset\n",
    ")"
   ]
  },
  {
   "cell_type": "code",
   "execution_count": 8,
   "id": "b8b20e04",
   "metadata": {},
   "outputs": [
    {
     "data": {
      "application/vnd.microsoft.datawrangler.viewer.v0+json": {
       "columns": [
        {
         "name": "index",
         "rawType": "int64",
         "type": "integer"
        },
        {
         "name": "text",
         "rawType": "object",
         "type": "string"
        },
        {
         "name": "pred_class",
         "rawType": "int64",
         "type": "integer"
        },
        {
         "name": "actual_class",
         "rawType": "int64",
         "type": "integer"
        }
       ],
       "ref": "0f9101fe-9d73-4793-9da7-b93c37fab9e0",
       "rows": [
        [
         "196",
         "President Donald Trump welcomed India s Prime Minister Narendra Modi to the White House Monday for their first meeting, as the U.S. branded a top militant from neighboring Pakistan as a  global terrorist. The leaders of the world s two largest democracies are looking to expand ties on defense and fighting terrorism, but strains are likely on trade. Their personal chemistry could prove as important as policy in setting the tone for relations.During brief Oval Office remarks, Trump heaped praise on Modi as a  great prime minister  who had brought economic growth to India. Modi recalled Trump s visits to India long before he was president and said he was looking forward to collaborating with him now that he is president. The relationship between the United States and India is very, very strong and very, very powerful,  Trump said.  We agree on most things. And I would say, by the end of the day we ll agree on everything. I have a feeling,  he joked.Meanwhile back in India, a village is so enamored with President Trump that they ve renamed their village after him: #News: As @POTUS @realDonaldTrump's popularity soars abroad, a village in #India renames itself \"Trump\" to honour their American hero.   pic.twitter.com/3ogNWWcwMA   l g s  (@Maximus_4EVR) June 27, 2017Hours before Modi s arrival, the State Department imposed sanctions on Syed Salahuddin, the Pakistan-based leader of Hizbul Mujahideen, the main rebel group that fights against Indian control in the divided Himalayan region of Kashmir. India s foreign ministry hailed the move.Trump s press conference with India s Prime Minister:Trump has so far focused on outreach to China, India s strategic rival, as he looks to Beijing to rein in nuclear-armed North Korea. But Washington and New Delhi share concerns about China s rise as a military power that has underpinned increasingly close relations in the past decade.  PBS",
         "0",
         "1"
        ],
        [
         "462",
         "Watch Tucker Carlson point out that Trump paid a 25% tax rate while socialist  fair share  Bernie only paid a 13% tax rate: ",
         "0",
         "1"
        ],
        [
         "543",
         "Iran, where the thought police will always have a job: Not only will we not grant foreigners the permission to inspect our military sites, we will not even give them permission to think about such a subject. A spokesman for Iran s nuclear agency has once again rejected calls to grant IAEA access to military sites, continuing a war of words on the issue that began Sunday.Press TV reports that Behrouz Kamalvandi, spokesman for the Atomic Energy Organization of Iran (AEOI), gave an interview Monday in which he stated that demands for access to Iran s military sites were  not practical and acceptable.  According to Press TV, his statement was a response to a claim U.S. Energy Secretary Ernest Moniz made earlier in the day.During an interview with Bloomberg News earlier Monday, Secretary Moniz said,  We expect to have anywhere, anytime access  within Iran. That statement appears to match the contents of the U.S. fact sheet published three weeks ago. The fact sheet states,  Iran will be required to grant access to the IAEA to investigate suspicious sites or allegations of a covert enrichment facility, conversion facility, centrifuge production facility, or yellowcake production facility anywhere in the country. Secretary Moniz s statement about access  anywhere, anytime  was itself an apparent response to a blunt statement Sunday by Brigadier General Hossein Salami. According to Press TV, General Salami gave an interview to Fars News in which he stated,  Not only will we not grant foreigners the permission to inspect our military sites, we will not even give them permission to think about such a subject.  In case that was not clear enough, Gen. Salami added,  They will not even be permitted to inspect the most normal military site in their dreams. General Salami is not the first high ranking Iranian to deny the IAEA will get access to Iran s military sites under the proposed deal. Nearly two weeks ago, Iran s Defense Minister said any inspection of Iran s military sites was  a red line  and added that no  inspection of any kind from such facilities would be accepted.  Ayatollah Khamenei backed up that stance the next day.AEOI spokesman Behrouz Kamalvandi who said military site inspections were not  acceptable was reportedly awaiting a nuclear delegation from Russia to discuss the construction of two new nuclear power plants in Iran next year.Via: Breitbart News",
         "0",
         "1"
        ],
        [
         "767",
         "The following statements were posted to the verified Twitter accounts of U.S. President Donald Trump, @realDonaldTrump and @POTUS.  The opinions expressed are his own. Reuters has not edited the statements or confirmed their accuracy.  @realDonaldTrump : - Will be going to North Dakota today to discuss tax reform and tax cuts. We are the highest taxed nation in the world - that will change. [0647 EDT] -Watching Hurricane closely. My team, which has done, and is doing, such a good job in Texas, is already in Florida. No rest for the weary! [0651 EDT] -Hurricane looks like largest ever recorded in the Atlantic! [0653 EDT] -- Source link: (bit.ly/2jBh4LU) (bit.ly/2jpEXYR)",
         "1",
         "0"
        ],
        [
         "784",
         "Reuters reports:The United States expelled 35 Russian diplomats and closed two Russian compounds in New York and Maryland in response to a campaign of harassment against American diplomats in Moscow, a senior U.S. official said on Thursday.The move against the diplomats from the Russian embassy in Washington and consulate in San Francisco is part of a series of actions announced on Thursday to punish Russia for a campaign of intimidation of American diplomats in Moscow and interference in the U.S. election.In fact, this morning The Hill wrote that the Obama administration is  under intense pressure to release evidence confirming Russian interference in the presidential election before leaving office. The administration has provided exactly zero documentation, but that has not stopped the media machine from parroting the claims and repeating it ad nauseam, in hopes the emotional appeals through repetition will make it factual.Just as bad, the Hill also writes that nor has Obama  corroborated subsequent leaks from anonymous officials contending that the CIA believes the campaign was an attempt by Russian President Vladimir Putin to ensure Donald Trump s victory. ",
         "0",
         "1"
        ],
        [
         "904",
         " Reframing the current diplomatic crisis in North Korea is essential if genuine progress is to be made in diffusing the current tense situation.Former US President Jimmy Carter is suggesting just that. But will the hawks in Washington listen?. The Carter CenterThe harsh rhetoric from Washington and Pyongyang during recent months has exacerbated an already confrontational relationship between our countries, and has probably eliminated any chance of good faith peace talks between the United States and North Korea. In addition to restraining the warlike rhetoric, our leaders need to encourage talks between North Korea and other countries, especially China and Russia. The recent UN Security Council unanimous vote for new sanctions suggests that these countries could help.  In all cases, a nuclear exchange must be avoided. All parties must assure North Koreans they we will forego any military action against them if North Korea remains peaceful.President Jimmy CarterI have visited North Korea three times, and have spent more than 20 hours in discussions with their political leaders regarding important issues that affect U.S.-DPRK relations.In June 1994, I met with Kim Il Sung in a time of crisis, when he agreed to put all their nuclear programs under strict supervision of the International Atomic Energy Agency and to seek mutual agreement with the United States on a permanent peace treaty, to have summit talks with the president of South Korea, to expedite the recovery of the remains of American service personnel buried in his country, and to take other steps to ease tension on the peninsula. Kim Il Sung died shortly after my visit, and his successor, Kim Jong Il, notified me and leaders in Washington that he would honor the promises made by his father. These obligations were later confirmed officially in negotiations in Geneva by Robert Gallucci and other representatives of the Clinton administration.I returned to Pyongyang in August 2010, at the invitation of North Korean leaders, to bring home Aijalon Gomes, an American who had been detained there. My last visit to North Korea was in May 2011 when I led a delegation of Elders (former presidents of Ireland and Finland and former prime minister of Norway) to assure the delivery of donated food directly to needy people.During all these visits, the North Koreans emphasized that they wanted peaceful relations with the United States and their neighbors, but were convinced that we planned a preemptive military strike against their country. They wanted a peace treaty (especially with America) to replace the ceasefire agreement that had existed since the end of the Korean War in 1953, and to end the economic sanctions that had been very damaging to them during that long interim period. They have made it clear to me and others that their first priority is to assure that their military capability is capable of destroying a large part of Seoul and of responding strongly in other ways to any American attack. The influence of China in Pyongyang seems to be greatly reduced since Kim Jong Un became the North Korean leader in December 2011.A commitment to peace by the United States and North Korea is crucial.When this confrontational crisis is ended, the United States should be prepared to consummate a permanent treaty to replace the ceasefire of 1953. The United States should make this clear, to North Koreans and to our allies.READ MORE NORTH KOREA NEWS AT: 21st Century Wire North Korea FilesSUPPORT OUR WORK BY SUBSCRIBING & BECOMING A MEMBER @21WIRE.TV",
         "0",
         "1"
        ]
       ],
       "shape": {
        "columns": 3,
        "rows": 6
       }
      },
      "text/html": [
       "<div>\n",
       "<style scoped>\n",
       "    .dataframe tbody tr th:only-of-type {\n",
       "        vertical-align: middle;\n",
       "    }\n",
       "\n",
       "    .dataframe tbody tr th {\n",
       "        vertical-align: top;\n",
       "    }\n",
       "\n",
       "    .dataframe thead th {\n",
       "        text-align: right;\n",
       "    }\n",
       "</style>\n",
       "<table border=\"1\" class=\"dataframe\">\n",
       "  <thead>\n",
       "    <tr style=\"text-align: right;\">\n",
       "      <th></th>\n",
       "      <th>text</th>\n",
       "      <th>pred_class</th>\n",
       "      <th>actual_class</th>\n",
       "    </tr>\n",
       "  </thead>\n",
       "  <tbody>\n",
       "    <tr>\n",
       "      <th>196</th>\n",
       "      <td>President Donald Trump welcomed India s Prime ...</td>\n",
       "      <td>0</td>\n",
       "      <td>1</td>\n",
       "    </tr>\n",
       "    <tr>\n",
       "      <th>462</th>\n",
       "      <td>Watch Tucker Carlson point out that Trump paid...</td>\n",
       "      <td>0</td>\n",
       "      <td>1</td>\n",
       "    </tr>\n",
       "    <tr>\n",
       "      <th>543</th>\n",
       "      <td>Iran, where the thought police will always hav...</td>\n",
       "      <td>0</td>\n",
       "      <td>1</td>\n",
       "    </tr>\n",
       "    <tr>\n",
       "      <th>767</th>\n",
       "      <td>The following statements were posted to the ve...</td>\n",
       "      <td>1</td>\n",
       "      <td>0</td>\n",
       "    </tr>\n",
       "    <tr>\n",
       "      <th>784</th>\n",
       "      <td>Reuters reports:The United States expelled 35 ...</td>\n",
       "      <td>0</td>\n",
       "      <td>1</td>\n",
       "    </tr>\n",
       "    <tr>\n",
       "      <th>904</th>\n",
       "      <td>Reframing the current diplomatic crisis in No...</td>\n",
       "      <td>0</td>\n",
       "      <td>1</td>\n",
       "    </tr>\n",
       "  </tbody>\n",
       "</table>\n",
       "</div>"
      ],
      "text/plain": [
       "                                                  text  pred_class  \\\n",
       "196  President Donald Trump welcomed India s Prime ...           0   \n",
       "462  Watch Tucker Carlson point out that Trump paid...           0   \n",
       "543  Iran, where the thought police will always hav...           0   \n",
       "767  The following statements were posted to the ve...           1   \n",
       "784  Reuters reports:The United States expelled 35 ...           0   \n",
       "904   Reframing the current diplomatic crisis in No...           0   \n",
       "\n",
       "     actual_class  \n",
       "196             1  \n",
       "462             1  \n",
       "543             1  \n",
       "767             0  \n",
       "784             1  \n",
       "904             1  "
      ]
     },
     "execution_count": 8,
     "metadata": {},
     "output_type": "execute_result"
    }
   ],
   "source": [
    "wrong_preds_df_finetuned_lora"
   ]
  }
 ],
 "metadata": {
  "kernelspec": {
   "display_name": "venv",
   "language": "python",
   "name": "python3"
  },
  "language_info": {
   "codemirror_mode": {
    "name": "ipython",
    "version": 3
   },
   "file_extension": ".py",
   "mimetype": "text/x-python",
   "name": "python",
   "nbconvert_exporter": "python",
   "pygments_lexer": "ipython3",
   "version": "3.13.5"
  }
 },
 "nbformat": 4,
 "nbformat_minor": 5
}
